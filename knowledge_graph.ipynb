{
 "cells": [
  {
   "cell_type": "markdown",
   "source": [
    "# Job Recommendation Using Knowledge Graph"
   ],
   "metadata": {}
  },
  {
   "cell_type": "code",
   "execution_count": 3,
   "source": [
    "from datetime import datetime\r\n",
    "from pyvis.network import Network\r\n",
    "import networkx as nx\r\n",
    "from dateutil import parser\r\n",
    "import pandas as pd"
   ],
   "outputs": [],
   "metadata": {
    "scrolled": false
   }
  },
  {
   "cell_type": "code",
   "execution_count": null,
   "source": [
    "\r\n",
    "df = pd.read_json(\"job_descri_data.json\")\r\n",
    "jobs = df[\"jobs\"].array\r\n",
    "\r\n",
    "jobid = []\r\n",
    "skills = []\r\n",
    "year = []\r\n",
    "\r\n",
    "counter = 0\r\n",
    "\r\n",
    "for job in jobs:\r\n",
    "    jobid.append(job[\"id\"])\r\n",
    "    skills.append(job[\"category\"])\r\n",
    "    duration = datetime.now() - parser.parse(job[\"publication_date\"])\r\n",
    "    year.append(duration.seconds)\r\n",
    "    counter += 1\r\n",
    "    if(counter == 10):\r\n",
    "        break\r\n",
    "\r\n",
    "kjobid = []\r\n",
    "kskills = []\r\n",
    "\r\n",
    "\r\n",
    "for k in range(2):\r\n",
    "    # arbitary value to generate othe id\r\n",
    "    kjobid.append(jobs[k][\"id\"]+841843278)\r\n",
    "    kskills.append(jobs[k][\"category\"])\r\n",
    "\r\n",
    "\r\n",
    "net = Network()\r\n",
    "\r\n",
    "job_net = Network(height='1000px', width='100%',\r\n",
    "                  bgcolor='#222222', font_color='white')\r\n",
    "\r\n",
    "job_net.barnes_hut()\r\n",
    "sources = jobid\r\n",
    "targets = skills\r\n",
    "values = year\r\n",
    "sources_resume = kjobid\r\n",
    "targets_resume = kskills\r\n",
    "\r\n",
    "\r\n",
    "edge_data = zip(sources, targets, values)\r\n",
    "resume_edge = zip(sources_resume, targets_resume)\r\n",
    "for j, e in enumerate(edge_data):\r\n",
    "    src = e[0]\r\n",
    "    dst = e[1]\r\n",
    "    w = e[2]\r\n",
    "\r\n",
    "    job_net.add_node(src, src, color='#dd4b39', title=src)\r\n",
    "    job_net.add_node(dst, dst, title=dst)\r\n",
    "\r\n",
    "    if str(w).isdigit():\r\n",
    "        if w is None:\r\n",
    "\r\n",
    "            job_net.add_edge(src, dst, value=w, color='#00ff1e', label=w)\r\n",
    "        if 1 < w <= 70000:\r\n",
    "            job_net.add_edge(src, dst, value=w, color='#FFFF00', label=w)\r\n",
    "        if w > 70000:\r\n",
    "            job_net.add_edge(src, dst, value=w, color='#dd4b39', label=w)\r\n",
    "\r\n",
    "    else:\r\n",
    "        job_net.add_edge(src, dst, value=0.1, dashes=True)\r\n",
    "for j, e in enumerate(resume_edge):\r\n",
    "    src = 'resume'\r\n",
    "    dst = e[1]\r\n",
    "\r\n",
    "    job_net.add_node(src, src, color='#dd4b39', title=src)\r\n",
    "    job_net.add_node(dst, dst, title=dst)\r\n",
    "    job_net.add_edge(src, dst, color='#00ff1e')\r\n",
    "\r\n",
    "neighbor_map = job_net.get_adj_list()\r\n",
    "\r\n",
    "for node in job_net.nodes:\r\n",
    "    node['title'] = \"h1\"\r\n",
    "    node['value'] = len(neighbor_map[node['id']])\r\n",
    "# add neighbor data to node hover data\r\n",
    "job_net.show_buttons(filter_=['physics'])\r\n",
    "job_net.show('knowledge_graph.html')\r\n"
   ],
   "outputs": [],
   "metadata": {}
  }
 ],
 "metadata": {
  "kernelspec": {
   "name": "python3",
   "display_name": "Python 3.9.0 64-bit"
  },
  "language_info": {
   "codemirror_mode": {
    "name": "ipython",
    "version": 3
   },
   "file_extension": ".py",
   "mimetype": "text/x-python",
   "name": "python",
   "nbconvert_exporter": "python",
   "pygments_lexer": "ipython3",
   "version": "3.9.0"
  },
  "interpreter": {
   "hash": "63fd5069d213b44bf678585dea6b12cceca9941eaf7f819626cde1f2670de90d"
  }
 },
 "nbformat": 4,
 "nbformat_minor": 5
}