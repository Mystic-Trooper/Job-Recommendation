{
 "cells": [
  {
   "cell_type": "markdown",
   "metadata": {},
   "source": [
    "# Job Recommendation Using Knowledge Graph"
   ]
  },
  {
   "cell_type": "markdown",
   "id": "fd65780f",
   "metadata": {},
   "source": []
  },
  {
   "cell_type": "code",
   "execution_count": 98,
   "metadata": {
    "scrolled": false
   },
   "outputs": [],
   "source": [
    "import networkx as nx\n",
    "import pandas as pd\n",
    "from IPython.display import display\n"
   ]
  },
  {
   "cell_type": "code",
   "execution_count": 99,
   "id": "38a459db",
   "metadata": {},
   "outputs": [],
   "source": [
    "job_description_dataset = pd.read_json(\"career_builder_jobs_10501.json\")\n",
    "resume_dataset=pd.read_json(\"resumes.json\")"
   ]
  },
  {
   "cell_type": "code",
   "execution_count": 100,
   "id": "42b921b8",
   "metadata": {},
   "outputs": [
    {
     "name": "stdout",
     "output_type": "stream",
     "text": [
      "1\n",
      "['Microbiology', 'microsoft powerpoint', 'microsoft office', 'microsoft excel', 'microsoft project management', 'Microsoft word', 'Outlook', 'Internet explorer', 'Marketing/Sales', 'Quality Control', 'Quality Assurance', 'Research and development', 'Problem solving']\n",
      "['Btech: Food Technology', 'National Diploma: Food Technology', 'Senior Certificate']\n",
      " Experience 5\n"
     ]
    }
   ],
   "source": [
    "for resumeData in resume_dataset.values[:1] : # first two resumes\n",
    "    print(resumeData[0]['id']) #id\n",
    "    print(resumeData[0]['careerjunction_za_skills']) # skills\n",
    "    print(resumeData[0]['careerjunction_za_courses']) # Degree \n",
    "    print(f\" Experience {len(resumeData[0]['careerjunction_za_historical_jobtitles'])}\") # Experience\n"
   ]
  },
  {
   "cell_type": "code",
   "execution_count": 101,
   "id": "8f2f9642",
   "metadata": {},
   "outputs": [
    {
     "name": "stdout",
     "output_type": "stream",
     "text": [
      "2b387592-8148-5720-a661-a2730061d14c\n",
      "$17.23 - $22.00 / hour\n",
      "Emergency Handling\n",
      "Bachelor's Degree\n",
      "2\n",
      "FULL_TIME\n"
     ]
    }
   ],
   "source": [
    "for jobData in job_description_dataset[:1].values:  # first two job description\n",
    "    print(jobData[17])  # Id\n",
    "    print(jobData[0])  # Salary\n",
    "    print(jobData[6])  # Skills\n",
    "    print(jobData[2])  # Degree\n",
    "    numbers = [int(word) for word in jobData[14].split() if word.isdigit()]\n",
    "    numbers.append(0)\n",
    "    experience = max(numbers) \n",
    "    print(experience) # Experience\n",
    "    print(jobData[20])  # Job Type\n"
   ]
  },
  {
   "cell_type": "code",
   "execution_count": 108,
   "id": "9dbe0f49",
   "metadata": {},
   "outputs": [
    {
     "data": {
      "text/plain": [
       "[1, 2]"
      ]
     },
     "execution_count": 108,
     "metadata": {},
     "output_type": "execute_result"
    }
   ],
   "source": [
    "nodes = [n for n in resume_dataset.values][:2]\n",
    "nodes_id=[n[0]['id'] for n in nodes]\n",
    "nodes_id\n"
   ]
  },
  {
   "cell_type": "code",
   "execution_count": 109,
   "id": "cc01fc3c",
   "metadata": {},
   "outputs": [
    {
     "data": {
      "image/png": "[encoded data removed]",
      "text/plain": [
       "<Figure size 432x288 with 1 Axes>"
      ]
     },
     "metadata": {},
     "output_type": "display_data"
    }
   ],
   "source": [
    "G = nx.Graph()\n",
    "G.add_nodes_from(nodes_id)\n",
    "nx.draw(G)"
   ]
  }
 ],
 "metadata": {
  "interpreter": {
   "hash": "63fd5069d213b44bf678585dea6b12cceca9941eaf7f819626cde1f2670de90d"
  },
  "kernelspec": {
   "display_name": "Python 3.9.0 64-bit",
   "name": "python3"
  },
  "language_info": {
   "codemirror_mode": {
    "name": "ipython",
    "version": 3
   },
   "file_extension": ".py",
   "mimetype": "text/x-python",
   "name": "python",
   "nbconvert_exporter": "python",
   "pygments_lexer": "ipython3",
   "version": "3.9.0"
  }
 },
 "nbformat": 4,
 "nbformat_minor": 5
}
