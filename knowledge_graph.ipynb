{
 "cells": [
  {
   "cell_type": "markdown",
   "metadata": {},
   "source": [
    "# Job Recommendation Using Knowledge Graph"
   ]
  },
  {
   "cell_type": "code",
   "execution_count": 1,
   "metadata": {
    "scrolled": false
   },
   "outputs": [],
   "source": [
    "import networkx as nx\n",
    "import pandas as pd\n",
    "from pyvis.network import Network\n",
    "from operator import itemgetter\n",
    "import matplotlib.pyplot as plt\n",
    "from IPython.display import display\n"
   ]
  },
  {
   "cell_type": "code",
   "execution_count": 2,
   "id": "aae33d41",
   "metadata": {},
   "outputs": [],
   "source": [
    "resume_counts=3\n",
    "jd_count=3"
   ]
  },
  {
   "cell_type": "code",
   "execution_count": 3,
   "id": "18a5da82",
   "metadata": {},
   "outputs": [
    {
     "data": {
      "text/plain": [
       "'2.6.3'"
      ]
     },
     "execution_count": 3,
     "metadata": {},
     "output_type": "execute_result"
    }
   ],
   "source": [
    "nx.__version__"
   ]
  },
  {
   "cell_type": "code",
   "execution_count": 4,
   "id": "38a459db",
   "metadata": {},
   "outputs": [],
   "source": [
    "job_description_dataset = pd.read_json(\n",
    "    \"Dataset\\dataset_job_description.json\")\n",
    "resume_dataset = pd.read_json(\"Dataset\\dataset_resume.json\")\n"
   ]
  },
  {
   "cell_type": "code",
   "execution_count": 5,
   "id": "42b921b8",
   "metadata": {},
   "outputs": [
    {
     "name": "stdout",
     "output_type": "stream",
     "text": [
      "1\n",
      "['Emergency Handling', 'Microbiology', 'microsoft powerpoint', 'microsoft office', 'microsoft excel', 'microsoft project management', 'Microsoft word', 'Outlook', 'BootStrap', 'Internet explorer', 'Marketing/Sales', 'Quality Control', 'Quality Assurance', 'Research and development', 'Problem solving']\n",
      "['Btech: Food Technology', 'National Diploma: Food Technology', 'Senior Certificate']\n",
      " Experience 5\n"
     ]
    }
   ],
   "source": [
    "for resumeData in resume_dataset.values[:1] : # first two resumes\n",
    "    print(resumeData[0]['id']) #id\n",
    "    print(resumeData[0]['careerjunction_za_skills']) # skills\n",
    "    print(resumeData[0]['careerjunction_za_courses']) # Degree \n",
    "    print(f\" Experience {len(resumeData[0]['careerjunction_za_historical_jobtitles'])}\") # Experience\n"
   ]
  },
  {
   "cell_type": "code",
   "execution_count": 6,
   "id": "8f2f9642",
   "metadata": {},
   "outputs": [
    {
     "name": "stdout",
     "output_type": "stream",
     "text": [
      "2b387592-8148-5720-a661-a2730061d14c\n",
      "$17.23 - $22.00 / hour\n",
      "Microsoft Office , java ee , cics , Adobe Photoshop , asp , Adobe After Effects , Powerhouse Programming- beginners and advance , asp .NET\n",
      "Bachelor's Degree\n",
      "2\n",
      "FULL_TIME\n"
     ]
    }
   ],
   "source": [
    "for jobData in job_description_dataset[:1].values:  # first two job description\n",
    "    print(jobData[17])  # Id\n",
    "    print(jobData[0])  # Salary\n",
    "    print(jobData[6])  # Skills\n",
    "    print(jobData[2])  # Degree\n",
    "    numbers = [int(word) for word in jobData[14].split() if word.isdigit()]\n",
    "    numbers.append(0)\n",
    "    experience = max(numbers) \n",
    "    print(experience) # Experience\n",
    "    print(jobData[20])  # Job Type\n"
   ]
  },
  {
   "cell_type": "code",
   "execution_count": 7,
   "id": "9dbe0f49",
   "metadata": {},
   "outputs": [],
   "source": [
    "nodes = [n for n in resume_dataset.values][:resume_counts] # TODO: Change count to desired no of resumes\n",
    "\n",
    "nodes_id=[n[0]['id'] for n in nodes]\n",
    "# nodes_id\n",
    "\n",
    "edges = [tuple(e) for e in job_description_dataset.values]\n",
    "# edges"
   ]
  },
  {
   "cell_type": "markdown",
   "id": "86c283da",
   "metadata": {},
   "source": [
    "Extract Job Id, Skills and experience from job post"
   ]
  },
  {
   "cell_type": "code",
   "execution_count": 8,
   "id": "cc01fc3c",
   "metadata": {},
   "outputs": [],
   "source": [
    "G = nx.Graph()\n",
    "\n",
    "jobid = []\n",
    "req_skills = []\n",
    "req_experience = []\n",
    "\n",
    "counter = 0\n",
    "\n",
    "for job in job_description_dataset[:jd_count].values: # TODO: Change count to desired no of JD\n",
    "    _skills = job[6].split(\",\")\n",
    "    jobid.append(job[17])\n",
    "    req_skills.append(_skills)\n",
    "    numbers = [int(word) for word in job[14].split() if word.isdigit()]\n",
    "    numbers.append(0)\n",
    "    experience = max(numbers)\n",
    "    req_experience.append(experience)\n",
    "    counter += 1\n",
    "    if(counter == jd_count):  # TODO: Change count to desired no of JD\n",
    "        break\n"
   ]
  },
  {
   "cell_type": "markdown",
   "id": "ed76c363",
   "metadata": {},
   "source": [
    "Extract resume Id, Skills and experience from Resume"
   ]
  },
  {
   "cell_type": "code",
   "execution_count": 9,
   "id": "5c27ec11",
   "metadata": {},
   "outputs": [
    {
     "data": {
      "text/plain": [
       "[5, 5, 0]"
      ]
     },
     "execution_count": 9,
     "metadata": {},
     "output_type": "execute_result"
    }
   ],
   "source": [
    "\n",
    "resumeId = []\n",
    "resumeSkills = []\n",
    "resumeExperience = []\n",
    "# Side note: use a for loop instead of individual loops\n",
    "\n",
    "resumes = [n for n in resume_dataset.values][:resume_counts] # TODO: Change count to desired no of resumes\n",
    "resumeId = [n[0]['id'] for n in resumes]\n",
    "resumeSkills = [n[0]['careerjunction_za_skills'] for n in resumes]\n",
    "resumeExperience = [\n",
    "    len(n[0]['careerjunction_za_historical_jobtitles']) for n in resumes]\n",
    "resumeExperience\n"
   ]
  },
  {
   "cell_type": "code",
   "execution_count": 10,
   "id": "2d71a513",
   "metadata": {},
   "outputs": [],
   "source": [
    "edge_data = zip(jobid, req_skills, req_experience)\n",
    "node_data = zip(resumeId, resumeSkills, resumeExperience)"
   ]
  },
  {
   "cell_type": "markdown",
   "id": "ef896a47",
   "metadata": {},
   "source": [
    "Adding Job Description and skill node, are connected with an edge having weight of **experience**"
   ]
  },
  {
   "cell_type": "code",
   "execution_count": 11,
   "id": "568abdd0",
   "metadata": {},
   "outputs": [],
   "source": [
    "for j, e in enumerate(edge_data):\n",
    "    src = e[0]\n",
    "    dst = e[1]\n",
    "    w = e[2]\n",
    "    # print(dst)\n",
    "    G.add_node(src, color='#dd4b39', title=src,type='jobDescription')\n",
    "    for eachSkill in dst:\n",
    "        eachSkill=eachSkill.strip()\n",
    "        G.add_node(eachSkill, title=dst, type='skill', experience=w)\n",
    "        # if str(w).isdigit():\n",
    "        if w is None:\n",
    "            G.add_edge(src, eachSkill, value=w, color='#00ff1e', label=w)\n",
    "        if 1 < w <= 70000:\n",
    "            G.add_edge(src, eachSkill, value=w, color='#FFFF00', label=w)\n",
    "        if w > 70000:\n",
    "            G.add_edge(src, eachSkill, value=w, color='#dd4b39', label=w)\n",
    "\n",
    "        else:\n",
    "            G.add_edge(src, eachSkill) \n"
   ]
  },
  {
   "cell_type": "markdown",
   "id": "f9a9027a",
   "metadata": {},
   "source": [
    "Adding resume and skill node, are connected with an edge"
   ]
  },
  {
   "cell_type": "code",
   "execution_count": 12,
   "id": "b25edca5",
   "metadata": {},
   "outputs": [],
   "source": [
    "for j, e in enumerate(node_data):\n",
    "    src = \"ResumeId-\" + str(e[0])\n",
    "    dst = e[1]\n",
    "    w = e[2]\n",
    "    G.add_node(src, color='#dd4b39', type='resume', title=src)\n",
    "    for eachSkill in dst:\n",
    "        eachSkill = eachSkill.strip()\n",
    "        G.add_node(eachSkill, title=eachSkill, type='skill', experience=w)\n",
    "        G.add_edge(src, eachSkill, color='#00ff1e')\n",
    "\n",
    "nt = Network('1080px', '1960px', notebook=False)\n",
    "# populates the nodes and edges data structures\n",
    "nt.from_nx(G)\n",
    "nt.show('nx.html')\n"
   ]
  },
  {
   "cell_type": "markdown",
   "id": "942ba53a",
   "metadata": {},
   "source": [
    "## Analysis of Network\n",
    "#### Find Skills ,Job Description , Resume having highest degree. (which means highest connections)"
   ]
  },
  {
   "cell_type": "code",
   "execution_count": 13,
   "id": "fe8d70d5",
   "metadata": {},
   "outputs": [
    {
     "name": "stdout",
     "output_type": "stream",
     "text": [
      "Popular Skill:\n",
      "('Emergency Handling', 2)\n",
      "\n",
      "Popular Resume:\n",
      "('ResumeId-1', 15)\n",
      "\n",
      "Popular Description:\n",
      "('2b387592-8148-5720-a661-a2730061d14c', 8)\n",
      "\n"
     ]
    }
   ],
   "source": [
    "degree_dict=dict(G.degree(G.nodes()))\n",
    "nx.set_node_attributes(G,degree_dict,'degree')\n",
    "\n",
    "sorted_degree= sorted(degree_dict.items(),key=itemgetter(1),reverse=True)\n",
    "\n",
    "def popularNodeByType(type):\n",
    "  for d in sorted_degree:\n",
    "    if(G.nodes[d[0]]['type'] == type):\n",
    "        print(f\"{d}\\n\")\n",
    "        return d;\n",
    "\n",
    "print(\"Popular Skill:\")\n",
    "popular_skill=popularNodeByType('skill')\n",
    "\n",
    "print(\"Popular Resume:\")\n",
    "popular_resume=popularNodeByType('resume')\n",
    "\n",
    "print(\"Popular Description:\")\n",
    "popular_jd=popularNodeByType('jobDescription')\n",
    "\n"
   ]
  },
  {
   "cell_type": "code",
   "execution_count": null,
   "id": "c18a60aa",
   "metadata": {},
   "outputs": [],
   "source": []
  },
  {
   "cell_type": "markdown",
   "id": "62364279",
   "metadata": {},
   "source": [
    "#### Eigen vector centrality take an account of nodes , edges as well as connections of that nodes"
   ]
  },
  {
   "cell_type": "code",
   "execution_count": 14,
   "id": "021cdb90",
   "metadata": {},
   "outputs": [
    {
     "name": "stdout",
     "output_type": "stream",
     "text": [
      "Top 20 nodes by eigenvector centrality:\n",
      "('ResumeId-3', 0.00010502478380464879)\n",
      "('ResumeId-2', 0.23405726745902172)\n",
      "('ResumeId-1', 0.6672459700286026)\n"
     ]
    }
   ],
   "source": [
    "betweenness_dict = nx.betweenness_centrality(G,weight=True)  # Run betweenness centrality\n",
    "eigenvector_dict = nx.eigenvector_centrality(G,max_iter=600)  # Run eigenvector centrality\n",
    "\n",
    "# Assign each to an attribute in your network\n",
    "nx.set_node_attributes(G, betweenness_dict, 'betweenness')\n",
    "nx.set_node_attributes(G, eigenvector_dict, 'eigenvector')\n",
    "\n",
    "sorted_betweenness = sorted(\n",
    "    eigenvector_dict.items(), key=itemgetter(0), reverse=True)\n",
    "\n",
    "print(\"Top 20 nodes by eigenvector centrality:\")\n",
    "count=0;\n",
    "for b in sorted_betweenness:\n",
    "    if(G.nodes[b[0]]['type']=='resume'):\n",
    "        print(b)\n",
    "        count+=1\n",
    "    if count==20:\n",
    "        break\n"
   ]
  },
  {
   "cell_type": "markdown",
   "id": "650feb02",
   "metadata": {},
   "source": [
    "**Input**: skill\n",
    "**Output:** recommend (description,\n",
    "        resumes)"
   ]
  },
  {
   "cell_type": "code",
   "execution_count": 15,
   "id": "e816b516",
   "metadata": {},
   "outputs": [
    {
     "name": "stdout",
     "output_type": "stream",
     "text": [
      "Quality Assurance\n",
      "REST Services\n",
      "microsoft powerpoint\n",
      "ResumeId-1\n",
      "SQL Databse Development\n",
      "EntityFrameWork 6\n",
      "Outlook\n",
      "Quality Control\n",
      "Problem solving\n",
      "microsoft excel\n",
      "Internet explorer\n",
      "C#\n",
      "SSRS\n",
      "JQuery\n",
      "MVC5\n",
      "ResumeId-2\n",
      "Marketing/Sales\n",
      "BootStrap\n",
      "Microsoft word\n",
      "Microbiology\n",
      "Emergency Handling\n",
      "Research and development\n",
      "SSIS\n",
      "microsoft office\n",
      "microsoft project management\n"
     ]
    }
   ],
   "source": [
    "allConnectedNodes=nx.node_connected_component(G, 'BootStrap')\n",
    "for node in allConnectedNodes:\n",
    "    print(node)"
   ]
  },
  {
   "cell_type": "markdown",
   "id": "38e8ecc4",
   "metadata": {},
   "source": [
    "#### Recommend Users to learn skills\n",
    "[Bipertite graph concept applies here]"
   ]
  },
  {
   "cell_type": "code",
   "execution_count": 16,
   "id": "b25b7288",
   "metadata": {},
   "outputs": [
    {
     "name": "stdout",
     "output_type": "stream",
     "text": [
      "Top Skills to be learned\n",
      "Emergency Handling 0.227\n",
      "BootStrap 0.227\n",
      "EntityFrameWork 6 0.059\n",
      "C# 0.059\n",
      "SSRS 0.059\n",
      "JQuery 0.059\n",
      "MVC5 0.059\n",
      "REST Services 0.059\n",
      "SSIS 0.059\n",
      "SQL Databse Development 0.059\n"
     ]
    }
   ],
   "source": [
    "resume1_nbrs=G.neighbors('ResumeId-2')\n",
    "\n",
    "resume3_nbrs=G.neighbors('ResumeId-3')\n",
    "\n",
    "differentSkills= set(resume1_nbrs).difference(resume3_nbrs)\n",
    "skillNodes=[]\n",
    "\n",
    "for skill in differentSkills:\n",
    "    skillNodes.append(G.nodes[skill])\n",
    "    \n",
    "sortedSkillsAccrToEigen = sorted(skillNodes, key=lambda i: i['eigenvector'],reverse=True)\n",
    "\n",
    "print(\"Top Skills to be learned\")\n",
    "for skill in sortedSkillsAccrToEigen:\n",
    "    print(f\"{skill['title']} {round(skill['eigenvector'],3)}\")\n"
   ]
  },
  {
   "cell_type": "markdown",
   "id": "9abbd2b9",
   "metadata": {},
   "source": [
    "#### input: Resume \n",
    "\n",
    "#### output: List of recommended Job Descriptions"
   ]
  },
  {
   "cell_type": "code",
   "execution_count": 17,
   "id": "931e5813",
   "metadata": {},
   "outputs": [
    {
     "ename": "NetworkXError",
     "evalue": "The node ResumeId-20 is not in the graph.",
     "output_type": "error",
     "traceback": [
      "\u001b[1;31m---------------------------------------------------------------------------\u001b[0m",
      "\u001b[1;31mKeyError\u001b[0m                                  Traceback (most recent call last)",
      "\u001b[1;32m~\\AppData\\Roaming\\Python\\Python39\\site-packages\\networkx\\classes\\graph.py\u001b[0m in \u001b[0;36mneighbors\u001b[1;34m(self, n)\u001b[0m\n\u001b[0;32m   1252\u001b[0m         \u001b[1;32mtry\u001b[0m\u001b[1;33m:\u001b[0m\u001b[1;33m\u001b[0m\u001b[1;33m\u001b[0m\u001b[0m\n\u001b[1;32m-> 1253\u001b[1;33m             \u001b[1;32mreturn\u001b[0m \u001b[0miter\u001b[0m\u001b[1;33m(\u001b[0m\u001b[0mself\u001b[0m\u001b[1;33m.\u001b[0m\u001b[0m_adj\u001b[0m\u001b[1;33m[\u001b[0m\u001b[0mn\u001b[0m\u001b[1;33m]\u001b[0m\u001b[1;33m)\u001b[0m\u001b[1;33m\u001b[0m\u001b[1;33m\u001b[0m\u001b[0m\n\u001b[0m\u001b[0;32m   1254\u001b[0m         \u001b[1;32mexcept\u001b[0m \u001b[0mKeyError\u001b[0m \u001b[1;32mas\u001b[0m \u001b[0me\u001b[0m\u001b[1;33m:\u001b[0m\u001b[1;33m\u001b[0m\u001b[1;33m\u001b[0m\u001b[0m\n",
      "\u001b[1;31mKeyError\u001b[0m: 'ResumeId-20'",
      "\nThe above exception was the direct cause of the following exception:\n",
      "\u001b[1;31mNetworkXError\u001b[0m                             Traceback (most recent call last)",
      "\u001b[1;32m~\\AppData\\Local\\Temp/ipykernel_8956/435412729.py\u001b[0m in \u001b[0;36m<module>\u001b[1;34m\u001b[0m\n\u001b[0;32m     16\u001b[0m \u001b[1;33m\u001b[0m\u001b[0m\n\u001b[0;32m     17\u001b[0m \u001b[1;33m\u001b[0m\u001b[0m\n\u001b[1;32m---> 18\u001b[1;33m \u001b[0mresume3_nbrs\u001b[0m \u001b[1;33m=\u001b[0m \u001b[0mG\u001b[0m\u001b[1;33m.\u001b[0m\u001b[0mneighbors\u001b[0m\u001b[1;33m(\u001b[0m\u001b[1;34m'ResumeId-20'\u001b[0m\u001b[1;33m)\u001b[0m\u001b[1;33m\u001b[0m\u001b[1;33m\u001b[0m\u001b[0m\n\u001b[0m\u001b[0;32m     19\u001b[0m \u001b[0mjobDescriptionNodes\u001b[0m \u001b[1;33m=\u001b[0m \u001b[0mget_all_adj_job_description_nodes\u001b[0m\u001b[1;33m(\u001b[0m\u001b[0mresume3_nbrs\u001b[0m\u001b[1;33m)\u001b[0m\u001b[1;33m\u001b[0m\u001b[1;33m\u001b[0m\u001b[0m\n\u001b[0;32m     20\u001b[0m \u001b[1;33m\u001b[0m\u001b[0m\n",
      "\u001b[1;32m~\\AppData\\Roaming\\Python\\Python39\\site-packages\\networkx\\classes\\graph.py\u001b[0m in \u001b[0;36mneighbors\u001b[1;34m(self, n)\u001b[0m\n\u001b[0;32m   1253\u001b[0m             \u001b[1;32mreturn\u001b[0m \u001b[0miter\u001b[0m\u001b[1;33m(\u001b[0m\u001b[0mself\u001b[0m\u001b[1;33m.\u001b[0m\u001b[0m_adj\u001b[0m\u001b[1;33m[\u001b[0m\u001b[0mn\u001b[0m\u001b[1;33m]\u001b[0m\u001b[1;33m)\u001b[0m\u001b[1;33m\u001b[0m\u001b[1;33m\u001b[0m\u001b[0m\n\u001b[0;32m   1254\u001b[0m         \u001b[1;32mexcept\u001b[0m \u001b[0mKeyError\u001b[0m \u001b[1;32mas\u001b[0m \u001b[0me\u001b[0m\u001b[1;33m:\u001b[0m\u001b[1;33m\u001b[0m\u001b[1;33m\u001b[0m\u001b[0m\n\u001b[1;32m-> 1255\u001b[1;33m             \u001b[1;32mraise\u001b[0m \u001b[0mNetworkXError\u001b[0m\u001b[1;33m(\u001b[0m\u001b[1;34mf\"The node {n} is not in the graph.\"\u001b[0m\u001b[1;33m)\u001b[0m \u001b[1;32mfrom\u001b[0m \u001b[0me\u001b[0m\u001b[1;33m\u001b[0m\u001b[1;33m\u001b[0m\u001b[0m\n\u001b[0m\u001b[0;32m   1256\u001b[0m \u001b[1;33m\u001b[0m\u001b[0m\n\u001b[0;32m   1257\u001b[0m     \u001b[1;33m@\u001b[0m\u001b[0mproperty\u001b[0m\u001b[1;33m\u001b[0m\u001b[1;33m\u001b[0m\u001b[0m\n",
      "\u001b[1;31mNetworkXError\u001b[0m: The node ResumeId-20 is not in the graph."
     ]
    }
   ],
   "source": [
    "def get_all_adj_job_description_nodes(resume3_nbrs):\n",
    "    related_job_description_nodes_dict = {}\n",
    "\n",
    "    for skill in resume3_nbrs:\n",
    "        skill_nabhour = G.neighbors(skill)\n",
    "        for each_node in skill_nabhour:\n",
    "            if(G.nodes[each_node]['type'] == 'jobDescription'):\n",
    "                if G.nodes[each_node]['title'] in related_job_description_nodes_dict:\n",
    "                    related_job_description_nodes_dict[G.nodes[each_node]\n",
    "                                                       ['title']] += 1\n",
    "                else:\n",
    "                    related_job_description_nodes_dict[G.nodes[each_node]\n",
    "                                                       ['title']] = 1\n",
    "\n",
    "    return related_job_description_nodes_dict\n",
    "\n",
    "\n",
    "resume3_nbrs = G.neighbors('ResumeId-20')\n",
    "jobDescriptionNodes = get_all_adj_job_description_nodes(resume3_nbrs)\n",
    "\n",
    "sortedJobDescriAccToConNodes = dict(sorted(\n",
    "    jobDescriptionNodes.items(), key=lambda i: i[1], reverse=True))\n",
    "\n",
    "print(\"Recomended Job Descriptions\")\n",
    "for job in sortedJobDescriAccToConNodes:\n",
    "    print(f\"{job} {sortedJobDescriAccToConNodes[job]}\")\n"
   ]
  }
 ],
 "metadata": {
  "interpreter": {
   "hash": "63fd5069d213b44bf678585dea6b12cceca9941eaf7f819626cde1f2670de90d"
  },
  "kernelspec": {
   "display_name": "Python 3.9.0 64-bit",
   "name": "python3"
  },
  "language_info": {
   "codemirror_mode": {
    "name": "ipython",
    "version": 3
   },
   "file_extension": ".py",
   "mimetype": "text/x-python",
   "name": "python",
   "nbconvert_exporter": "python",
   "pygments_lexer": "ipython3",
   "version": "3.9.0"
  }
 },
 "nbformat": 4,
 "nbformat_minor": 5
}
