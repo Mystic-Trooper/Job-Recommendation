{
 "cells": [
  {
   "cell_type": "markdown",
   "id": "f72ab781",
   "metadata": {},
   "source": [
    "# Job Recommendation Using Knowledge Graph"
   ]
  },
  {
   "cell_type": "code",
   "execution_count": 1,
   "id": "4e9d2ce3",
   "metadata": {
    "scrolled": false
   },
   "outputs": [],
   "source": [
    "from datetime import datetime\n",
    "from pyvis.network import Network\n",
    "import networkx as nx\n",
    "from dateutil import parser\n",
    "import pandas as pd"
   ]
  },
  {
   "cell_type": "code",
   "execution_count": 2,
   "id": "b77ac120",
   "metadata": {},
   "outputs": [],
   "source": [
    "\n",
    "df = pd.read_json(\"job_descri_data.json\")\n",
    "jobs = df[\"jobs\"].array\n",
    "\n",
    "jobid = []\n",
    "skills = []\n",
    "year = []\n",
    "\n",
    "counter=0\n",
    "\n",
    "for job in jobs:\n",
    "    jobid.append(job[\"id\"])\n",
    "    skills.append(job[\"category\"])\n",
    "    duration = datetime.now() - parser.parse(job[\"publication_date\"])\n",
    "    year.append(duration.seconds)\n",
    "    counter+=1\n",
    "    if(counter==10):\n",
    "        break\n",
    "\n",
    "kjobid = []\n",
    "kskills = []\n",
    "\n",
    "\n",
    "for k in range(2):\n",
    "    # arbitary value to generate othe id\n",
    "    kjobid.append(jobs[k][\"id\"]+841843278)\n",
    "    kskills.append(jobs[k][\"category\"])\n",
    "\n",
    "\n",
    "net = Network()\n",
    "\n",
    "job_net = Network(height='1000px', width='100%',\n",
    "                  bgcolor='#222222', font_color='white')\n",
    "\n",
    "job_net.barnes_hut()\n",
    "sources = jobid\n",
    "targets = skills\n",
    "values = year\n",
    "sources_resume = kjobid\n",
    "targets_resume = kskills\n",
    "\n",
    "\n",
    "edge_data = zip(sources, targets, values)\n",
    "resume_edge = zip(sources_resume, targets_resume)\n",
    "for j, e in enumerate(edge_data):\n",
    "    src = e[0]\n",
    "    dst = e[1]\n",
    "    w = e[2]\n",
    "\n",
    "    job_net.add_node(src, src, color='#dd4b39', title=src)\n",
    "    job_net.add_node(dst, dst, title=dst)\n",
    "\n",
    "    if str(w).isdigit():\n",
    "        if w is None:\n",
    "\n",
    "            job_net.add_edge(src, dst, value=w, color='#00ff1e', label=w)\n",
    "        if 1 < w <= 70000:\n",
    "            job_net.add_edge(src, dst, value=w, color='#FFFF00', label=w)\n",
    "        if w > 70000:\n",
    "            job_net.add_edge(src, dst, value=w, color='#dd4b39', label=w)\n",
    "\n",
    "    else:\n",
    "        job_net.add_edge(src, dst, value=0.1, dashes=True)\n",
    "for j, e in enumerate(resume_edge):\n",
    "    src = 'resume'\n",
    "    dst = e[1]\n",
    "\n",
    "    job_net.add_node(src, src, color='#dd4b39', title=src)\n",
    "    job_net.add_node(dst, dst, title=dst)\n",
    "    job_net.add_edge(src, dst, color='#00ff1e')\n",
    "\n",
    "neighbor_map = job_net.get_adj_list()\n",
    "\n",
    "for node in job_net.nodes:\n",
    "    node['title'] = \"h1\"\n",
    "    node['value'] = len(neighbor_map[node['id']])\n",
    "# add neighbor data to node hover data\n",
    "job_net.show_buttons(filter_=['physics'])\n",
    "job_net.show('knowledge_graph.html')\n"
   ]
  }
 ],
 "metadata": {
  "kernelspec": {
   "display_name": "Python 3 (ipykernel)",
   "language": "python",
   "name": "python3"
  },
  "language_info": {
   "codemirror_mode": {
    "name": "ipython",
    "version": 3
   },
   "file_extension": ".py",
   "mimetype": "text/x-python",
   "name": "python",
   "nbconvert_exporter": "python",
   "pygments_lexer": "ipython3",
   "version": "3.9.0"
  }
 },
 "nbformat": 4,
 "nbformat_minor": 5
}
