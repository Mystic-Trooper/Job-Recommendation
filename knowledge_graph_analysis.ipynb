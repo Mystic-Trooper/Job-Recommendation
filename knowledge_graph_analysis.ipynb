{
 "cells": [
  {
   "cell_type": "markdown",
   "id": "c846f466",
   "metadata": {},
   "source": [
    "# Job Recommendation Using Knowledge Graph"
   ]
  },
  {
   "cell_type": "code",
   "execution_count": 1,
   "id": "557c0ab9",
   "metadata": {
    "scrolled": false
   },
   "outputs": [],
   "source": [
    "import networkx as nx\n",
    "import pandas as pd\n",
    "from pyvis.network import Network\n",
    "from operator import itemgetter\n",
    "import matplotlib.pyplot as plt\n",
    "from IPython.display import display\n",
    "import collections\n",
    "import warnings\n",
    "warnings.filterwarnings(\"ignore\")\n",
    "from mlxtend.preprocessing import TransactionEncoder\n",
    "from mlxtend.frequent_patterns import apriori, fpmax, fpgrowth\n",
    "from mlxtend.frequent_patterns import association_rules"
   ]
  },
  {
   "cell_type": "code",
   "execution_count": 2,
   "id": "aae33d41",
   "metadata": {},
   "outputs": [],
   "source": [
    "resume_counts=20\n",
    "jd_count=20"
   ]
  },
  {
   "cell_type": "code",
   "execution_count": 3,
   "id": "18a5da82",
   "metadata": {},
   "outputs": [
    {
     "data": {
      "text/plain": [
       "'2.8.2'"
      ]
     },
     "execution_count": 3,
     "metadata": {},
     "output_type": "execute_result"
    }
   ],
   "source": [
    "nx.__version__"
   ]
  },
  {
   "cell_type": "code",
   "execution_count": 4,
   "id": "38a459db",
   "metadata": {},
   "outputs": [
    {
     "data": {
      "text/html": [
       "<div>\n",
       "<style scoped>\n",
       "    .dataframe tbody tr th:only-of-type {\n",
       "        vertical-align: middle;\n",
       "    }\n",
       "\n",
       "    .dataframe tbody tr th {\n",
       "        vertical-align: top;\n",
       "    }\n",
       "\n",
       "    .dataframe thead th {\n",
       "        text-align: right;\n",
       "    }\n",
       "</style>\n",
       "<table border=\"1\" class=\"dataframe\">\n",
       "  <thead>\n",
       "    <tr style=\"text-align: right;\">\n",
       "      <th></th>\n",
       "      <th>salary</th>\n",
       "      <th>domain</th>\n",
       "      <th>education</th>\n",
       "      <th>crawled_at</th>\n",
       "      <th>description</th>\n",
       "      <th>title</th>\n",
       "      <th>skills</th>\n",
       "      <th>country</th>\n",
       "      <th>raw_description</th>\n",
       "      <th>locality</th>\n",
       "      <th>...</th>\n",
       "      <th>longitude</th>\n",
       "      <th>postalCode</th>\n",
       "      <th>url</th>\n",
       "      <th>experience</th>\n",
       "      <th>address</th>\n",
       "      <th>latitude</th>\n",
       "      <th>_id</th>\n",
       "      <th>company</th>\n",
       "      <th>region</th>\n",
       "      <th>employment_type</th>\n",
       "    </tr>\n",
       "  </thead>\n",
       "  <tbody>\n",
       "    <tr>\n",
       "      <th>0</th>\n",
       "      <td>$17.23 - $22.00 / hour</td>\n",
       "      <td>https://www.careerbuilder.com/</td>\n",
       "      <td>Bachelor's Degree</td>\n",
       "      <td>2021-05-05 03:01:49</td>\n",
       "      <td>Job Description\\nTo implement the Head Start P...</td>\n",
       "      <td>Head Start Teacher</td>\n",
       "      <td>Microsoft Office , java ee , cics , Adobe Phot...</td>\n",
       "      <td>US</td>\n",
       "      <td>\\n\\n&lt;strong&gt;Job Description&lt;/strong&gt;\\n&lt;span&gt;To...</td>\n",
       "      <td>Rochester</td>\n",
       "      <td>...</td>\n",
       "      <td>-77.59785</td>\n",
       "      <td>14604</td>\n",
       "      <td>https://www.careerbuilder.com/job/J8S02F6YRMG5...</td>\n",
       "      <td>1 to 2 years experience.</td>\n",
       "      <td>550 East Main Street</td>\n",
       "      <td>43.15929</td>\n",
       "      <td>2b387592-8148-5720-a661-a2730061d14c</td>\n",
       "      <td>Action for a Better Community, Inc.</td>\n",
       "      <td>NY</td>\n",
       "      <td>FULL_TIME</td>\n",
       "    </tr>\n",
       "    <tr>\n",
       "      <th>1</th>\n",
       "      <td>$19.00 - $26.00 / hour</td>\n",
       "      <td>https://www.careerbuilder.com/</td>\n",
       "      <td>Graduate Degree</td>\n",
       "      <td>2021-05-05 03:01:50</td>\n",
       "      <td>Job Description\\nYou have the magic. We have t...</td>\n",
       "      <td>Teacher of English for Online Groups!</td>\n",
       "      <td>Team and individual development  , c</td>\n",
       "      <td>US</td>\n",
       "      <td>\\n\\n&lt;strong&gt;Job Description&lt;/strong&gt;\\n&lt;p style...</td>\n",
       "      <td>Atlanta</td>\n",
       "      <td>...</td>\n",
       "      <td>-84.38799</td>\n",
       "      <td></td>\n",
       "      <td>https://www.careerbuilder.com/job/JCL1H264YM6F...</td>\n",
       "      <td>No experience required.</td>\n",
       "      <td></td>\n",
       "      <td>33.74900</td>\n",
       "      <td>cfc728ee-e7f8-5538-b1ee-0f6a2d12e1d1</td>\n",
       "      <td>Magic Ears</td>\n",
       "      <td>GA</td>\n",
       "      <td>PART_TIME</td>\n",
       "    </tr>\n",
       "    <tr>\n",
       "      <th>2</th>\n",
       "      <td>$106,250.00 - $125,000.00 / year</td>\n",
       "      <td>https://www.careerbuilder.com/</td>\n",
       "      <td>Bachelor's Degree</td>\n",
       "      <td>2021-05-05 03:01:50</td>\n",
       "      <td>Job Description\\nWe are looking for a CRM deve...</td>\n",
       "      <td>CRM / PHP Developer</td>\n",
       "      <td>WebSphere Datapower , Visual Basic For Excel ,...</td>\n",
       "      <td>US</td>\n",
       "      <td>\\n\\n&lt;strong&gt;Job Description&lt;/strong&gt;\\n&lt;p class...</td>\n",
       "      <td>Duluth</td>\n",
       "      <td>...</td>\n",
       "      <td>-84.17516</td>\n",
       "      <td>30097</td>\n",
       "      <td>https://www.careerbuilder.com/job/JCM4J76JP92B...</td>\n",
       "      <td>At least 5 years experience.</td>\n",
       "      <td></td>\n",
       "      <td>34.04884</td>\n",
       "      <td>8dcd846b-db99-547f-836c-bcda497cff0d</td>\n",
       "      <td>ExecuSource</td>\n",
       "      <td>GA</td>\n",
       "      <td>FULL_TIME</td>\n",
       "    </tr>\n",
       "    <tr>\n",
       "      <th>3</th>\n",
       "      <td></td>\n",
       "      <td>https://www.careerbuilder.com/</td>\n",
       "      <td>High School</td>\n",
       "      <td>2021-05-05 03:01:50</td>\n",
       "      <td>Job Description\\n\\nBriggs Dodge Ram Fiat is lo...</td>\n",
       "      <td>Automotive Service Advisor / Driver</td>\n",
       "      <td>Hr Auditing , Xml Web Services , MFC , Problem...</td>\n",
       "      <td>US</td>\n",
       "      <td>\\n\\n&lt;strong&gt;Job Description&lt;/strong&gt;\\n&lt;p style...</td>\n",
       "      <td>Topeka</td>\n",
       "      <td>...</td>\n",
       "      <td>-95.68294</td>\n",
       "      <td>66611</td>\n",
       "      <td>https://www.careerbuilder.com/job/JCH4GH71PST9...</td>\n",
       "      <td>No experience required.</td>\n",
       "      <td>3001 South Kansas Avenue</td>\n",
       "      <td>39.01264</td>\n",
       "      <td>e7fc9e40-ac86-5cf2-ba8f-3c1ef9e21982</td>\n",
       "      <td>Briggs Dodge Ram Fiat</td>\n",
       "      <td>KS</td>\n",
       "      <td>FULL_TIME</td>\n",
       "    </tr>\n",
       "    <tr>\n",
       "      <th>4</th>\n",
       "      <td>$85,000.00 - $120,000.00 / year</td>\n",
       "      <td>https://www.careerbuilder.com/</td>\n",
       "      <td>4 Year Degree</td>\n",
       "      <td>2021-05-05 03:01:50</td>\n",
       "      <td>Job Description\\n HARLINGEN, TX- RIO GRANDE VA...</td>\n",
       "      <td>Licensed Nursing Home Administrator</td>\n",
       "      <td>Unix , knowledge of word , Internet Procuremen...</td>\n",
       "      <td>US</td>\n",
       "      <td>\\n\\n&lt;strong&gt;Job Description&lt;/strong&gt;\\n&lt;p style...</td>\n",
       "      <td>Harlingen</td>\n",
       "      <td>...</td>\n",
       "      <td>-97.65767</td>\n",
       "      <td>78550</td>\n",
       "      <td>https://www.careerbuilder.com/job/JCM2C66SCC02...</td>\n",
       "      <td>At least 3 years experience.</td>\n",
       "      <td>1814 Atrium Place Drive</td>\n",
       "      <td>26.16793</td>\n",
       "      <td>0d4d608a-17c0-5e6b-827e-88ad505cad09</td>\n",
       "      <td>Regency Integrated Health Services</td>\n",
       "      <td>TX</td>\n",
       "      <td>FULL_TIME</td>\n",
       "    </tr>\n",
       "  </tbody>\n",
       "</table>\n",
       "<p>5 rows × 21 columns</p>\n",
       "</div>"
      ],
      "text/plain": [
       "                             salary                          domain  \\\n",
       "0            $17.23 - $22.00 / hour  https://www.careerbuilder.com/   \n",
       "1            $19.00 - $26.00 / hour  https://www.careerbuilder.com/   \n",
       "2  $106,250.00 - $125,000.00 / year  https://www.careerbuilder.com/   \n",
       "3                                    https://www.careerbuilder.com/   \n",
       "4   $85,000.00 - $120,000.00 / year  https://www.careerbuilder.com/   \n",
       "\n",
       "           education          crawled_at  \\\n",
       "0  Bachelor's Degree 2021-05-05 03:01:49   \n",
       "1    Graduate Degree 2021-05-05 03:01:50   \n",
       "2  Bachelor's Degree 2021-05-05 03:01:50   \n",
       "3        High School 2021-05-05 03:01:50   \n",
       "4      4 Year Degree 2021-05-05 03:01:50   \n",
       "\n",
       "                                         description  \\\n",
       "0  Job Description\\nTo implement the Head Start P...   \n",
       "1  Job Description\\nYou have the magic. We have t...   \n",
       "2  Job Description\\nWe are looking for a CRM deve...   \n",
       "3  Job Description\\n\\nBriggs Dodge Ram Fiat is lo...   \n",
       "4  Job Description\\n HARLINGEN, TX- RIO GRANDE VA...   \n",
       "\n",
       "                                   title  \\\n",
       "0                     Head Start Teacher   \n",
       "1  Teacher of English for Online Groups!   \n",
       "2                    CRM / PHP Developer   \n",
       "3    Automotive Service Advisor / Driver   \n",
       "4    Licensed Nursing Home Administrator   \n",
       "\n",
       "                                              skills country  \\\n",
       "0  Microsoft Office , java ee , cics , Adobe Phot...      US   \n",
       "1              Team and individual development  , c      US   \n",
       "2  WebSphere Datapower , Visual Basic For Excel ,...      US   \n",
       "3  Hr Auditing , Xml Web Services , MFC , Problem...      US   \n",
       "4  Unix , knowledge of word , Internet Procuremen...      US   \n",
       "\n",
       "                                     raw_description   locality  ...  \\\n",
       "0  \\n\\n<strong>Job Description</strong>\\n<span>To...  Rochester  ...   \n",
       "1  \\n\\n<strong>Job Description</strong>\\n<p style...    Atlanta  ...   \n",
       "2  \\n\\n<strong>Job Description</strong>\\n<p class...     Duluth  ...   \n",
       "3  \\n\\n<strong>Job Description</strong>\\n<p style...     Topeka  ...   \n",
       "4  \\n\\n<strong>Job Description</strong>\\n<p style...  Harlingen  ...   \n",
       "\n",
       "  longitude  postalCode                                                url  \\\n",
       "0 -77.59785       14604  https://www.careerbuilder.com/job/J8S02F6YRMG5...   \n",
       "1 -84.38799              https://www.careerbuilder.com/job/JCL1H264YM6F...   \n",
       "2 -84.17516       30097  https://www.careerbuilder.com/job/JCM4J76JP92B...   \n",
       "3 -95.68294       66611  https://www.careerbuilder.com/job/JCH4GH71PST9...   \n",
       "4 -97.65767       78550  https://www.careerbuilder.com/job/JCM2C66SCC02...   \n",
       "\n",
       "                     experience                   address  latitude  \\\n",
       "0      1 to 2 years experience.      550 East Main Street  43.15929   \n",
       "1       No experience required.                            33.74900   \n",
       "2  At least 5 years experience.                            34.04884   \n",
       "3       No experience required.  3001 South Kansas Avenue  39.01264   \n",
       "4  At least 3 years experience.   1814 Atrium Place Drive  26.16793   \n",
       "\n",
       "                                    _id                              company  \\\n",
       "0  2b387592-8148-5720-a661-a2730061d14c  Action for a Better Community, Inc.   \n",
       "1  cfc728ee-e7f8-5538-b1ee-0f6a2d12e1d1                           Magic Ears   \n",
       "2  8dcd846b-db99-547f-836c-bcda497cff0d                          ExecuSource   \n",
       "3  e7fc9e40-ac86-5cf2-ba8f-3c1ef9e21982                Briggs Dodge Ram Fiat   \n",
       "4  0d4d608a-17c0-5e6b-827e-88ad505cad09   Regency Integrated Health Services   \n",
       "\n",
       "  region employment_type  \n",
       "0     NY       FULL_TIME  \n",
       "1     GA       PART_TIME  \n",
       "2     GA       FULL_TIME  \n",
       "3     KS       FULL_TIME  \n",
       "4     TX       FULL_TIME  \n",
       "\n",
       "[5 rows x 21 columns]"
      ]
     },
     "execution_count": 4,
     "metadata": {},
     "output_type": "execute_result"
    }
   ],
   "source": [
    "job_description_dataset = pd.read_json(\n",
    "    \"Dataset\\dataset_job_description.json\")\n",
    "job_description_dataset.head(n=5)\n",
    "\n"
   ]
  },
  {
   "cell_type": "code",
   "execution_count": 5,
   "id": "398b13de",
   "metadata": {},
   "outputs": [
    {
     "data": {
      "text/html": [
       "<div>\n",
       "<style scoped>\n",
       "    .dataframe tbody tr th:only-of-type {\n",
       "        vertical-align: middle;\n",
       "    }\n",
       "\n",
       "    .dataframe tbody tr th {\n",
       "        vertical-align: top;\n",
       "    }\n",
       "\n",
       "    .dataframe thead th {\n",
       "        text-align: right;\n",
       "    }\n",
       "</style>\n",
       "<table border=\"1\" class=\"dataframe\">\n",
       "  <thead>\n",
       "    <tr style=\"text-align: right;\">\n",
       "      <th></th>\n",
       "      <th>resumes</th>\n",
       "    </tr>\n",
       "  </thead>\n",
       "  <tbody>\n",
       "    <tr>\n",
       "      <th>0</th>\n",
       "      <td>{'id': 1, 'careerjunction_za_historical_jobtit...</td>\n",
       "    </tr>\n",
       "    <tr>\n",
       "      <th>1</th>\n",
       "      <td>{'id': 2, 'careerjunction_za_historical_jobtit...</td>\n",
       "    </tr>\n",
       "    <tr>\n",
       "      <th>2</th>\n",
       "      <td>{'id': 3, 'careerjunction_za_historical_jobtit...</td>\n",
       "    </tr>\n",
       "    <tr>\n",
       "      <th>3</th>\n",
       "      <td>{'id': 4, 'careerjunction_za_historical_jobtit...</td>\n",
       "    </tr>\n",
       "    <tr>\n",
       "      <th>4</th>\n",
       "      <td>{'id': 5, 'careerjunction_za_historical_jobtit...</td>\n",
       "    </tr>\n",
       "  </tbody>\n",
       "</table>\n",
       "</div>"
      ],
      "text/plain": [
       "                                             resumes\n",
       "0  {'id': 1, 'careerjunction_za_historical_jobtit...\n",
       "1  {'id': 2, 'careerjunction_za_historical_jobtit...\n",
       "2  {'id': 3, 'careerjunction_za_historical_jobtit...\n",
       "3  {'id': 4, 'careerjunction_za_historical_jobtit...\n",
       "4  {'id': 5, 'careerjunction_za_historical_jobtit..."
      ]
     },
     "execution_count": 5,
     "metadata": {},
     "output_type": "execute_result"
    }
   ],
   "source": [
    "resume_dataset = pd.read_json(\"Dataset\\dataset_resume.json\")\n",
    "\n",
    "\n",
    "resume_dataset.head(n=5)\n",
    "\n",
    "\n"
   ]
  },
  {
   "cell_type": "code",
   "execution_count": 6,
   "id": "871143c6",
   "metadata": {},
   "outputs": [
    {
     "name": "stdout",
     "output_type": "stream",
     "text": [
      "Total Job Descriptions 10501\n",
      "Total Resumes 2000\n"
     ]
    }
   ],
   "source": [
    "jd_total_count=len(job_description_dataset)\n",
    "resume_total_count = len(resume_dataset)\n",
    "\n",
    "print(f\"Total Job Descriptions {jd_total_count}\")\n",
    "print(f\"Total Resumes {resume_total_count}\")\n",
    "\n",
    "#!  uncomment to load entire dataset\n",
    "# resume_counts = resume_total_count\n",
    "# jd_count = jd_total_count\n",
    "\n"
   ]
  },
  {
   "cell_type": "code",
   "execution_count": 7,
   "id": "42b921b8",
   "metadata": {},
   "outputs": [
    {
     "name": "stdout",
     "output_type": "stream",
     "text": [
      "1\n",
      "['asp', 'asp. NET', 'Adobe Photoshop', 'Emergency Handling', 'Microbiology', 'microsoft powerpoint', 'microsoft office', 'microsoft excel', 'microsoft project management', 'Microsoft word', 'Outlook', 'BootStrap', 'Internet explorer', 'Marketing/Sales', 'Quality Control', 'Quality Assurance', 'Research and development', 'Problem solving']\n",
      "['Btech: Food Technology', 'National Diploma: Food Technology', 'Senior Certificate']\n",
      " Experience 5\n"
     ]
    }
   ],
   "source": [
    "for resumeData in resume_dataset.values[:1] : # first two resumes\n",
    "    print(resumeData[0]['id']) #id\n",
    "    print(resumeData[0]['careerjunction_za_skills']) # skills\n",
    "    print(resumeData[0]['careerjunction_za_courses']) # Degree \n",
    "    print(f\" Experience {len(resumeData[0]['careerjunction_za_historical_jobtitles'])}\") # Experience\n"
   ]
  },
  {
   "cell_type": "code",
   "execution_count": 8,
   "id": "8f2f9642",
   "metadata": {},
   "outputs": [
    {
     "name": "stdout",
     "output_type": "stream",
     "text": [
      "2b387592-8148-5720-a661-a2730061d14c\n",
      "$17.23 - $22.00 / hour\n",
      "Microsoft Office , java ee , cics , Adobe Photoshop , asp , Adobe After Effects , Powerhouse Programming- beginners and advance , asp .NET\n",
      "Bachelor's Degree\n",
      "2\n",
      "FULL_TIME\n"
     ]
    }
   ],
   "source": [
    "for jobData in job_description_dataset[:1].values:  # first two job description\n",
    "    print(jobData[17])  # Id\n",
    "    print(jobData[0])  # Salary\n",
    "    print(jobData[6])  # Skills\n",
    "    print(jobData[2])  # Degree\n",
    "    numbers = [int(word) for word in jobData[14].split() if word.isdigit()]\n",
    "    numbers.append(0)\n",
    "    experience = max(numbers) \n",
    "    print(experience) # Experience\n",
    "    print(jobData[20])  # Job Type\n"
   ]
  },
  {
   "cell_type": "code",
   "execution_count": 9,
   "id": "9dbe0f49",
   "metadata": {},
   "outputs": [],
   "source": [
    "nodes = [n for n in resume_dataset.values][:resume_counts] # TODO: Change count to desired no of resumes\n",
    "\n",
    "nodes_id=[n[0]['id'] for n in nodes]\n",
    "# nodes_id\n",
    "\n",
    "edges = [tuple(e) for e in job_description_dataset.values]\n",
    "# edges"
   ]
  },
  {
   "cell_type": "markdown",
   "id": "86c283da",
   "metadata": {},
   "source": [
    "Extract Job Id, Skills and experience from job post"
   ]
  },
  {
   "cell_type": "code",
   "execution_count": 10,
   "id": "cc01fc3c",
   "metadata": {},
   "outputs": [
    {
     "name": "stdout",
     "output_type": "stream",
     "text": [
      "20\n"
     ]
    }
   ],
   "source": [
    "G = nx.Graph()\n",
    "\n",
    "jobid = []\n",
    "req_skills = []\n",
    "req_experience = []\n",
    "\n",
    "counter = 0\n",
    "\n",
    "for job in job_description_dataset[:jd_count].values: # TODO: Change count to desired no of JD\n",
    "    _skills = job[6].split(\",\")\n",
    "    jobid.append(job[17])\n",
    "    req_skills.append(_skills)\n",
    "    numbers = [int(word) for word in job[14].split() if word.isdigit()]\n",
    "    numbers.append(0)\n",
    "    experience = max(numbers)\n",
    "    req_experience.append(experience)\n",
    "    counter += 1\n",
    "    if(counter == jd_count):  # TODO: Change count to desired no of JD\n",
    "        break\n",
    "\n",
    "print(len(jobid))\n"
   ]
  },
  {
   "cell_type": "markdown",
   "id": "ed76c363",
   "metadata": {},
   "source": [
    "Extract resume Id, Skills and experience from Resume"
   ]
  },
  {
   "cell_type": "code",
   "execution_count": 11,
   "id": "5c27ec11",
   "metadata": {},
   "outputs": [
    {
     "name": "stdout",
     "output_type": "stream",
     "text": [
      "20\n"
     ]
    }
   ],
   "source": [
    "\n",
    "resumeId = []\n",
    "resumeSkills = []\n",
    "resumeExperience = []\n",
    "# Side note: use a for loop instead of individual loops\n",
    "\n",
    "resumes = [n for n in resume_dataset.values][:resume_counts] # TODO: Change count to desired no of resumes\n",
    "resumeId = [n[0]['id'] for n in resumes]\n",
    "resumeSkills = [n[0]['careerjunction_za_skills'] for n in resumes]\n",
    "resumeExperience = [\n",
    "    len(n[0]['careerjunction_za_historical_jobtitles']) for n in resumes]\n",
    "print(len(resumeId))\n"
   ]
  },
  {
   "cell_type": "code",
   "execution_count": 12,
   "id": "2d71a513",
   "metadata": {},
   "outputs": [],
   "source": [
    "edge_data = zip(jobid, req_skills, req_experience)\n",
    "node_data = zip(resumeId, resumeSkills, resumeExperience)"
   ]
  },
  {
   "cell_type": "code",
   "execution_count": 13,
   "id": "6df04b51",
   "metadata": {},
   "outputs": [
    {
     "data": {
      "text/html": [
       "<div>\n",
       "<style scoped>\n",
       "    .dataframe tbody tr th:only-of-type {\n",
       "        vertical-align: middle;\n",
       "    }\n",
       "\n",
       "    .dataframe tbody tr th {\n",
       "        vertical-align: top;\n",
       "    }\n",
       "\n",
       "    .dataframe thead th {\n",
       "        text-align: right;\n",
       "    }\n",
       "</style>\n",
       "<table border=\"1\" class=\"dataframe\">\n",
       "  <thead>\n",
       "    <tr style=\"text-align: right;\">\n",
       "      <th></th>\n",
       "      <th>0</th>\n",
       "      <th>1</th>\n",
       "    </tr>\n",
       "  </thead>\n",
       "  <tbody>\n",
       "    <tr>\n",
       "      <th>0</th>\n",
       "      <td>1</td>\n",
       "      <td>[asp, asp. NET, Adobe Photoshop, Emergency Han...</td>\n",
       "    </tr>\n",
       "    <tr>\n",
       "      <th>1</th>\n",
       "      <td>2</td>\n",
       "      <td>[MVC5, JQuery, C#, BootStrap, REST Services, E...</td>\n",
       "    </tr>\n",
       "    <tr>\n",
       "      <th>2</th>\n",
       "      <td>3</td>\n",
       "      <td>[C# Developer, MYSQL, cics, PHP, javascript, C...</td>\n",
       "    </tr>\n",
       "    <tr>\n",
       "      <th>3</th>\n",
       "      <td>4</td>\n",
       "      <td>[Programming, Technical Support]</td>\n",
       "    </tr>\n",
       "    <tr>\n",
       "      <th>4</th>\n",
       "      <td>5</td>\n",
       "      <td>[Java, delphi, Excel, excel, Bloomberg]</td>\n",
       "    </tr>\n",
       "    <tr>\n",
       "      <th>5</th>\n",
       "      <td>6</td>\n",
       "      <td>[communication skills, Microsoft office, MVC, ...</td>\n",
       "    </tr>\n",
       "    <tr>\n",
       "      <th>6</th>\n",
       "      <td>7</td>\n",
       "      <td>[PHP, SQL, Javascript, Linux, Python, PostgreS...</td>\n",
       "    </tr>\n",
       "    <tr>\n",
       "      <th>7</th>\n",
       "      <td>8</td>\n",
       "      <td>[Test Management, sas, Open Office, Microsoft ...</td>\n",
       "    </tr>\n",
       "    <tr>\n",
       "      <th>8</th>\n",
       "      <td>9</td>\n",
       "      <td>[Adabas, Debugging, Natural, jcl, Cobol, Unix]</td>\n",
       "    </tr>\n",
       "    <tr>\n",
       "      <th>9</th>\n",
       "      <td>10</td>\n",
       "      <td>[Emails, reviews, files, Typing, Personally to...</td>\n",
       "    </tr>\n",
       "    <tr>\n",
       "      <th>10</th>\n",
       "      <td>11</td>\n",
       "      <td>[Word, Excel, Power Point]</td>\n",
       "    </tr>\n",
       "    <tr>\n",
       "      <th>11</th>\n",
       "      <td>12</td>\n",
       "      <td>[Oracle Pl/Sql, Database Desing, Implementatio...</td>\n",
       "    </tr>\n",
       "    <tr>\n",
       "      <th>12</th>\n",
       "      <td>13</td>\n",
       "      <td>[Analitcal skills, Mentoring new developers, P...</td>\n",
       "    </tr>\n",
       "    <tr>\n",
       "      <th>13</th>\n",
       "      <td>14</td>\n",
       "      <td>[Java Developer, Java Programming(SE &amp; EE), My...</td>\n",
       "    </tr>\n",
       "    <tr>\n",
       "      <th>14</th>\n",
       "      <td>15</td>\n",
       "      <td>[ASP .NET , java, Oracle , Gradle , Microso...</td>\n",
       "    </tr>\n",
       "    <tr>\n",
       "      <th>15</th>\n",
       "      <td>16</td>\n",
       "      <td>[Software Development, Data, Project managemen...</td>\n",
       "    </tr>\n",
       "    <tr>\n",
       "      <th>16</th>\n",
       "      <td>17</td>\n",
       "      <td>[Java, VBA, C#, Javascript, Excel, html, MVC, ...</td>\n",
       "    </tr>\n",
       "    <tr>\n",
       "      <th>17</th>\n",
       "      <td>18</td>\n",
       "      <td>[SQL, Pl/Sql, Oracle, Pro C, PHP, Unix, Python...</td>\n",
       "    </tr>\n",
       "    <tr>\n",
       "      <th>18</th>\n",
       "      <td>19</td>\n",
       "      <td>[Detailed, quick learner, methodical, analytic...</td>\n",
       "    </tr>\n",
       "    <tr>\n",
       "      <th>19</th>\n",
       "      <td>20</td>\n",
       "      <td>[Microsoft Office, Computer Hardware, Troubles...</td>\n",
       "    </tr>\n",
       "  </tbody>\n",
       "</table>\n",
       "</div>"
      ],
      "text/plain": [
       "     0                                                  1\n",
       "0    1  [asp, asp. NET, Adobe Photoshop, Emergency Han...\n",
       "1    2  [MVC5, JQuery, C#, BootStrap, REST Services, E...\n",
       "2    3  [C# Developer, MYSQL, cics, PHP, javascript, C...\n",
       "3    4                   [Programming, Technical Support]\n",
       "4    5            [Java, delphi, Excel, excel, Bloomberg]\n",
       "5    6  [communication skills, Microsoft office, MVC, ...\n",
       "6    7  [PHP, SQL, Javascript, Linux, Python, PostgreS...\n",
       "7    8  [Test Management, sas, Open Office, Microsoft ...\n",
       "8    9     [Adabas, Debugging, Natural, jcl, Cobol, Unix]\n",
       "9   10  [Emails, reviews, files, Typing, Personally to...\n",
       "10  11                         [Word, Excel, Power Point]\n",
       "11  12  [Oracle Pl/Sql, Database Desing, Implementatio...\n",
       "12  13  [Analitcal skills, Mentoring new developers, P...\n",
       "13  14  [Java Developer, Java Programming(SE & EE), My...\n",
       "14  15  [ASP .NET , java, Oracle , Gradle , Microso...\n",
       "15  16  [Software Development, Data, Project managemen...\n",
       "16  17  [Java, VBA, C#, Javascript, Excel, html, MVC, ...\n",
       "17  18  [SQL, Pl/Sql, Oracle, Pro C, PHP, Unix, Python...\n",
       "18  19  [Detailed, quick learner, methodical, analytic...\n",
       "19  20  [Microsoft Office, Computer Hardware, Troubles..."
      ]
     },
     "execution_count": 13,
     "metadata": {},
     "output_type": "execute_result"
    }
   ],
   "source": [
    "sub=zip(resumeId, resumeSkills)\n",
    "aprioriData1 = pd.DataFrame(sub)\n",
    "aprioriData1"
   ]
  },
  {
   "cell_type": "markdown",
   "id": "ef896a47",
   "metadata": {},
   "source": [
    "Adding Job Description and skill node, are connected with an edge having weight of **experience**"
   ]
  },
  {
   "cell_type": "code",
   "execution_count": 14,
   "id": "568abdd0",
   "metadata": {},
   "outputs": [],
   "source": [
    "for j, e in enumerate(edge_data):\n",
    "    src = e[0]\n",
    "    dst = e[1]\n",
    "    w = e[2]\n",
    "    # print(dst)\n",
    "    G.add_node(src, color='#dd4b39', title=src,type='jobDescription')\n",
    "    for eachSkill in dst:\n",
    "        eachSkill=eachSkill.strip()\n",
    "        G.add_node(eachSkill, title=dst, type='skill', experience=w)\n",
    "        # if str(w).isdigit():\n",
    "        if w is None:\n",
    "            G.add_edge(src, eachSkill, value=w, color='#00ff1e', label=w)\n",
    "        if 1 < w <= 70000:\n",
    "            G.add_edge(src, eachSkill, value=w, color='#FFFF00', label=w)\n",
    "        if w > 70000:\n",
    "            G.add_edge(src, eachSkill, value=w, color='#dd4b39', label=w)\n",
    "\n",
    "        else:\n",
    "            G.add_edge(src, eachSkill) \n"
   ]
  },
  {
   "cell_type": "markdown",
   "id": "f9a9027a",
   "metadata": {},
   "source": [
    "Adding resume and skill node, are connected with an edge"
   ]
  },
  {
   "cell_type": "code",
   "execution_count": 15,
   "id": "b25edca5",
   "metadata": {},
   "outputs": [],
   "source": [
    "for j, e in enumerate(node_data):\n",
    "    src = \"ResumeId-\" + str(e[0])\n",
    "    dst = e[1]\n",
    "    w = e[2]\n",
    "    G.add_node(src, color='#dd4b39', type='resume', title=src)\n",
    "    for eachSkill in dst:\n",
    "        eachSkill = eachSkill.strip()\n",
    "        G.add_node(eachSkill, title=eachSkill, type='skill', experience=w)\n",
    "        G.add_edge(src, eachSkill, color='#00ff1e')\n",
    "\n",
    "nt = Network('1080px', '1960px', notebook=False)\n",
    "\n",
    "# populates the nodes and edges data structures\n",
    "# nt.from_nx(G)\n",
    "# nt.show('nx.html')\n"
   ]
  },
  {
   "cell_type": "markdown",
   "id": "942ba53a",
   "metadata": {},
   "source": [
    "## Analysis of Network\n"
   ]
  },
  {
   "cell_type": "code",
   "execution_count": 16,
   "id": "31dbfda5",
   "metadata": {},
   "outputs": [
    {
     "data": {
      "text/plain": [
       "'Graph with 374 nodes and 426 edges'"
      ]
     },
     "execution_count": 16,
     "metadata": {},
     "output_type": "execute_result"
    }
   ],
   "source": [
    "nx.info(G)\n"
   ]
  },
  {
   "cell_type": "markdown",
   "id": "7c41be55",
   "metadata": {},
   "source": [
    "#### Find Skills ,Job Description , Resume having highest degree. (which means highest connections)\n",
    "- Most influential among them all\n",
    "- Who is the most influetial?\n",
    "- nx.degree_centrality(g)\n"
   ]
  },
  {
   "cell_type": "code",
   "execution_count": 17,
   "id": "fe8d70d5",
   "metadata": {},
   "outputs": [
    {
     "name": "stdout",
     "output_type": "stream",
     "text": [
      "Popular Skill:\n",
      "('C#', 0.02412868632707775)\n",
      "\n",
      "Popular Resume:\n",
      "('ResumeId-20', 0.07238605898123325)\n",
      "\n",
      "Popular Description:\n",
      "('53975ae6-ae18-5dd5-8f64-a4e378a7b9b9', 0.05361930294906166)\n",
      "\n"
     ]
    }
   ],
   "source": [
    "degree_dict = nx.degree_centrality(G)\n",
    "nx.set_node_attributes(G,degree_dict,'degree')\n",
    "\n",
    "sorted_degree= sorted(degree_dict.items(),key=itemgetter(1),reverse=True)\n",
    "\n",
    "def popularNodeByType(type):\n",
    "  for d in sorted_degree:\n",
    "    if(G.nodes[d[0]]['type'] == type):\n",
    "        print(f\"{d}\\n\")\n",
    "        return d;\n",
    "\n",
    "print(\"Popular Skill:\")\n",
    "popular_skill=popularNodeByType('skill')\n",
    "\n",
    "print(\"Popular Resume:\")\n",
    "popular_resume=popularNodeByType('resume')\n",
    "\n",
    "print(\"Popular Description:\")\n",
    "popular_jd=popularNodeByType('jobDescription')\n",
    "\n",
    "\n"
   ]
  },
  {
   "cell_type": "code",
   "execution_count": 18,
   "id": "c18a60aa",
   "metadata": {},
   "outputs": [
    {
     "data": {
      "image/png": "[encoded data removed]",
      "text/plain": [
       "<Figure size 432x288 with 1 Axes>"
      ]
     },
     "metadata": {},
     "output_type": "display_data"
    }
   ],
   "source": [
    "pop_skill_g = nx.bfs_tree(G, popular_skill[0], depth_limit=1)\n",
    "\n",
    "nx.draw_networkx(pop_skill_g)\n"
   ]
  },
  {
   "cell_type": "code",
   "execution_count": 19,
   "id": "c122a412",
   "metadata": {},
   "outputs": [
    {
     "data": {
      "image/png": "[encoded data removed]",
      "text/plain": [
       "<Figure size 432x288 with 1 Axes>"
      ]
     },
     "metadata": {},
     "output_type": "display_data"
    }
   ],
   "source": [
    "pop_resume_g = nx.bfs_tree(G, popular_resume[0], depth_limit=1)\n",
    "nx.draw_networkx(pop_resume_g)\n"
   ]
  },
  {
   "cell_type": "code",
   "execution_count": 20,
   "id": "7a3d7c96",
   "metadata": {},
   "outputs": [
    {
     "data": {
      "image/png": "[encoded data removed]",
      "text/plain": [
       "<Figure size 432x288 with 1 Axes>"
      ]
     },
     "metadata": {},
     "output_type": "display_data"
    }
   ],
   "source": [
    "pop_jd_g = nx.bfs_tree(G, popular_jd[0], depth_limit=1)\n",
    "nx.draw_networkx(pop_jd_g)\n"
   ]
  },
  {
   "cell_type": "code",
   "execution_count": 21,
   "id": "3be1a74c",
   "metadata": {},
   "outputs": [],
   "source": [
    "D=nx.average_neighbor_degree(G)\n",
    "sorted_x = sorted(\n",
    "    D.items(), key=itemgetter(1), reverse=True)\n",
    "D=collections.OrderedDict(sorted_x)\n"
   ]
  },
  {
   "cell_type": "code",
   "execution_count": 22,
   "id": "7aa02bb6",
   "metadata": {},
   "outputs": [
    {
     "data": {
      "text/plain": [
       "([], [])"
      ]
     },
     "execution_count": 22,
     "metadata": {},
     "output_type": "execute_result"
    },
    {
     "data": {
      "image/png": "[encoded data removed]",
      "text/plain": [
       "<Figure size 432x288 with 1 Axes>"
      ]
     },
     "metadata": {
      "needs_background": "light"
     },
     "output_type": "display_data"
    }
   ],
   "source": [
    "plt.bar(range(len(D)), list(D.values()), align='center')\n",
    "plt.xticks([])\n"
   ]
  },
  {
   "cell_type": "markdown",
   "id": "62364279",
   "metadata": {},
   "source": [
    "#### Eigen vector centrality take an account of nodes , edges as well as connections of that nodes\n",
    "- Eigenvector Centrality\n",
    "    - Most important connection\n",
    "    - Do you know whom I am related to?\n",
    "    - eg Google Page Rank"
   ]
  },
  {
   "cell_type": "markdown",
   "id": "e287b0ce",
   "metadata": {},
   "source": [
    "Eigenvector Centrality is an algorithm that measures the transitive influence of nodes. Relationships originating from high-scoring nodes contribute more to the score of a node than connections from low-scoring nodes. A high eigenvector score means that a node is connected to many nodes who themselves have high scores."
   ]
  },
  {
   "cell_type": "code",
   "execution_count": 23,
   "id": "021cdb90",
   "metadata": {},
   "outputs": [
    {
     "name": "stdout",
     "output_type": "stream",
     "text": [
      "Top 20 nodes by eigenvector centrality:\n",
      "('ResumeId-9', 0.020957184915277042)\n",
      "('ResumeId-8', 0.06633551033414514)\n",
      "('ResumeId-7', 0.3467484607814514)\n",
      "('ResumeId-6', 0.12442103525717838)\n",
      "('ResumeId-5', 0.04224966886283516)\n",
      "('ResumeId-4', 0.00752700448449583)\n",
      "('ResumeId-3', 0.07260664371520024)\n",
      "('ResumeId-20', 0.06278848807287965)\n",
      "('ResumeId-2', 0.07493558691351837)\n",
      "('ResumeId-19', 0.0012535527897914488)\n",
      "('ResumeId-18', 0.13124219692967637)\n",
      "('ResumeId-17', 0.36304815935062534)\n",
      "('ResumeId-16', 0.04724645944935945)\n",
      "('ResumeId-15', 0.024351295511403845)\n",
      "('ResumeId-14', 0.1386824897816205)\n",
      "('ResumeId-13', 0.09520772556818693)\n",
      "('ResumeId-12', 0.05378066195578652)\n",
      "('ResumeId-11', 6.440801937629768e-39)\n",
      "('ResumeId-10', 1.1532755714343616e-20)\n",
      "('ResumeId-1', 0.01588310133861768)\n"
     ]
    }
   ],
   "source": [
    "betweenness_dict = nx.betweenness_centrality(G,weight=True)  # Run betweenness centrality\n",
    "eigenvector_dict = nx.eigenvector_centrality(G,max_iter=600,weight=True)  # Run eigenvector centrality\n",
    "\n",
    "# Assign each to an attribute in your network\n",
    "nx.set_node_attributes(G, betweenness_dict, 'betweenness')\n",
    "nx.set_node_attributes(G, eigenvector_dict, 'eigenvector')\n",
    "\n",
    "sorted_betweenness = sorted(\n",
    "    eigenvector_dict.items(), key=itemgetter(0), reverse=True)\n",
    "\n",
    "print(\"Top 20 nodes by eigenvector centrality:\")\n",
    "count=0;\n",
    "for b in sorted_betweenness:\n",
    "    if(G.nodes[b[0]]['type']=='resume'):\n",
    "        print(b)\n",
    "        count+=1\n",
    "    if count==20:\n",
    "        break\n",
    "\n"
   ]
  },
  {
   "cell_type": "markdown",
   "id": "650feb02",
   "metadata": {},
   "source": [
    "**Input**: skill\n",
    "**Output:** recommend (description,\n",
    "        resumes)"
   ]
  },
  {
   "cell_type": "code",
   "execution_count": 24,
   "id": "e816b516",
   "metadata": {},
   "outputs": [
    {
     "name": "stdout",
     "output_type": "stream",
     "text": [
      "Natural\n",
      "Business Process\n",
      "Oracle\n",
      "Microsoft Sql Server\n",
      "Microsoft Solutions Framework\n",
      "Content Management Server 2002\n",
      "Frontend developer\n",
      "AJAX\n",
      "client liasion\n",
      "Test Management\n",
      "C + +\n",
      "LESS\n",
      "Outlook\n",
      "Gaming\n",
      "test and support solutions built using SharePoint\n",
      "Javascript\n",
      "MVC\n",
      "Systems Analysts\n",
      "a2ea21ac-ed28-552b-a9d3-c805f83bbe58\n",
      "Online Research\n",
      "Psychology Degree\n",
      "ASP .NET \n",
      "SAP FICO\n",
      "SSIS\n",
      "Java SE\n",
      "Analitcal skills\n",
      "Microsoft Software Packages\n",
      "Senior Developer\n",
      "Silk Central\n",
      "Oracle Pl/Sql\n",
      ".Net\n",
      "Research and development\n",
      "Git •\n",
      "Detailed\n",
      "Active Server Pages\n",
      "RDBMS\n",
      "See attached CV\n",
      "Python\n",
      "Distributed Computing\n",
      "Asp.Net\n",
      "Mysql\n",
      "C# Developer\n",
      "AngularJS\n",
      "Logo Design\n",
      "Consulting\n",
      "Backup\n",
      "Communications\n",
      "HP SOA SYSTINET\n",
      "Com\n",
      "Purchasing\n",
      "Change Management\n",
      "Software Development\n",
      "Photoshop\n",
      "Analytical Thinking Skills\n",
      ".NET\n",
      "Visual paradigm\n",
      "Powerhouse Programming- beginners and advance\n",
      "Java Programming(SE & EE)\n",
      "Electronics 1 & 2\n",
      "Web developer\n",
      "mysql\n",
      "Cobol\n",
      "Adobe Photoshop\n",
      "3da9b977-9603-542d-9466-cd52e51c3bd8\n",
      "C++\n",
      "jQuery\n",
      "Data\n",
      "66fc13b0-6871-5598-a9a3-4fb9b6e7aa04\n",
      "Community engagement\n",
      "Access\n",
      "REST Services\n",
      "quick learner\n",
      "Mentor\n",
      "Database Design\n",
      "SSRS\n",
      "Agile Methodologies\n",
      "ResumeId-1\n",
      "Relationship Management\n",
      "Social Media\n",
      "Ideal/Datacom\n",
      "Technical Training\n",
      "Designer\n",
      "MS SQL\n",
      "Electronics Development\n",
      "Internet explorer\n",
      "Documenting Requirements\n",
      "contact with internal and external parties\n",
      "jason\n",
      "AWS\n",
      "ResumeId-20\n",
      "CSS3\n",
      "Java Developer\n",
      "ResumeId-9\n",
      "Rapid Prototyping\n",
      "Qlikview\n",
      "Web Development\n",
      "Simulink\n",
      "Xml Web Services\n",
      "java ee\n",
      "Microsoft office\n",
      "Networks\n",
      "TCP/IP\n",
      "Microsoft Excel\n",
      "jsp\n",
      "sqlserver\n",
      "Perl\n",
      "vaadin\n",
      "Microsoft Word\n",
      "Networking/Lans\n",
      "communication skills\n",
      "Configuration Management\n",
      "3245816c-1ae2-53db-9e31-ee6dfa591981\n",
      "Windows 7\n",
      "f1b26fb3-4bf0-58c3-a34c-78af2d118070\n",
      "R\n",
      "android\n",
      "BootStrap\n",
      "Vb.Net\n",
      "Data Visualization\n",
      "Emergency Handling\n",
      "MVC (2 Year) •\n",
      "Research Experience (Completed Research Phd)\n",
      "Microsoft excel\n",
      "WCF\n",
      "css3\n",
      "ResumeId-19\n",
      "microsoft excel\n",
      "SQL/MySQL\n",
      "EC2\n",
      "Bloomberg\n",
      "HTML\n",
      "microsoft project management\n",
      "Iis 4/5\n",
      "Java Development\n",
      "ASP\n",
      "Computer Hardware\n",
      "Macromedia Flash\n",
      "Bootstrap •\n",
      "billing system\n",
      "delphi\n",
      "Entity Framework\n",
      "af546f56-f750-5254-b9f1-8758abe95359\n",
      "Talend\n",
      "oracle\n",
      "Adobe After Effects\n",
      "Higher Diploma in Education\n",
      "css\n",
      "JAVA Objective C C#  Android and windows phone 7 app development.\n",
      "Troubleshooting\n",
      "Microsoft Office\n",
      "cics\n",
      "Database Desing, Implementation And Management\n",
      "HA Proxy\n",
      "CSS\n",
      "Oracle Sql\n",
      "Processes & Projectmanagement\n",
      "and Java\n",
      "XML\n",
      "38646b26-5108-53f7-8375-130d2ed752cd\n",
      "Unique\n",
      "Supply chain Management solutions\n",
      "Ranorex\n",
      "Meeting deadlines\n",
      "Java Programming\n",
      "T-SQL\n",
      "ResumeId-5\n",
      "Microbiology\n",
      "JavaScript\n",
      "ASP.NET\n",
      "Technical Support\n",
      "ITIL\n",
      "Ability To Work In A Team\n",
      "MVC5\n",
      "ResumeId-15\n",
      "Customer servece\n",
      "ResumeId-18\n",
      "e7fc9e40-ac86-5cf2-ba8f-3c1ef9e21982\n",
      "Designs\n",
      "JAVASCRIPT\n",
      "GIT\n",
      "Graphic Design\n",
      "53975ae6-ae18-5dd5-8f64-a4e378a7b9b9\n",
      "Windows 2008 server\n",
      "ASP.Net MVC\n",
      "Microsoft\n",
      "Telerik Controls\n",
      "0d4d608a-17c0-5e6b-827e-88ad505cad09\n",
      "UML\n",
      "MongoDB\n",
      "Borland C++\n",
      "reporting\n",
      "Debugging\n",
      "Implementation And Management\n",
      "Call Center\n",
      "tsql\n",
      "sas\n",
      "ResumeId-16\n",
      "Delegate Tasks And Supervise Results\n",
      "Mentoring new developers\n",
      "Problem solving\n",
      "programming\n",
      "RADIUS\n",
      "excel\n",
      "Network Support\n",
      "Network +\n",
      "Database Desing\n",
      "Archi\n",
      "Develop\n",
      "Corel Word Perfect And Quattro Pro\n",
      "0242a07f-aae1-56cf-a264-53eb2b402d89\n",
      "SAP BI Crystal and Web Intelligence\n",
      "java\n",
      "MySQL\n",
      "Unix\n",
      "ResumeId-2\n",
      "Adabas\n",
      "Leadership\n",
      "Sound Systems\n",
      "ssis\n",
      "AWS RDS\n",
      "Gerrit\n",
      "blogger\n",
      "Counsellor\n",
      "html\n",
      "python\n",
      "methodical\n",
      "Systems Analysis\n",
      "Magento\n",
      "SOA\n",
      "jcl\n",
      "J Developer\n",
      "ResumeId-8\n",
      "Linux\n",
      "asp .NET\n",
      "ResumeId-3\n",
      "wordpress\n",
      "SQL Databse Development\n",
      "Adobe fireworks\n",
      "MS SQL Server\n",
      "Dispatching\n",
      "Disaster Recovery Planning\n",
      "Report Creation and Distibution\n",
      "Angular JS\n",
      "Computer Skills (Hardware, Software, Networking)\n",
      "C Programming Language\n",
      "Bash\n",
      "Angular\n",
      "Hr Auditing\n",
      "C\n",
      "ResumeId-14\n",
      "Hyperion Analyzer\n",
      "Project management\n",
      "ajax\n",
      "Excel\n",
      "Life Skill\n",
      "Problem sloving\n",
      "It Operations Management\n",
      "ResumeId-12\n",
      "ResumeId-17\n",
      "JQuery\n",
      "Sql Windows\n",
      "Pl/Sql\n",
      "Sql Server\n",
      "vertical\n",
      "Embedded Linux\n",
      "Microsoft Visio\n",
      "EntityFrameWork 6\n",
      "Operating Systems\n",
      "English\n",
      "Gradle \n",
      "O/S Symbian Uiq\n",
      "2fea03fb-e855-596f-915c-f2feb28da9fb\n",
      "VBA\n",
      "Open Office\n",
      "Quality Assurance\n",
      "iOS\n",
      "ResumeId-7\n",
      "Microsoft Frontpage\n",
      "ColdFusion\n",
      "Mfc\n",
      "Solution/ Requirements Definition\n",
      "Smaller systems that had to be developed as well includes the housing system\n",
      "Geographic Information Systems\n",
      "Microsoft Windows 2000\n",
      "61c088f9-63ea-5a47-b0ab-9310db497b4d\n",
      "SharePoint Skills\n",
      "C#\n",
      "MYSQL\n",
      "2b387592-8148-5720-a661-a2730061d14c\n",
      "Analytics\n",
      "Business Analytics\n",
      "Quality Control\n",
      "C++ Builder\n",
      "Information risk management\n",
      "6e18743d-a5af-5dc1-a6b1-20d293705199\n",
      "ResumeId-4\n",
      "Sentry\n",
      "Oracle \n",
      "Microsoft Office 97\n",
      "Pro C\n",
      "Adabas C For Windows\n",
      "Spring\n",
      "Microsoft Windows 98\n",
      "Programming (Java; C++; Vb)\n",
      "Database Administration\n",
      "microsoft office\n",
      "asp. NET\n",
      "Prince2 Project Management\n",
      "Macromedia Fireworks Mx\n",
      "JAVA Developer\n",
      "knowledge of word\n",
      "Teamcity\n",
      "Networking\n",
      "sql\n",
      "ResumeId-6\n",
      "microsoft powerpoint\n",
      "8b6b33e1-8dfc-5274-b3e6-cda37f549fdc\n",
      "analytical\n",
      "Facilitation Of Workshops And Trainings\n",
      "Programming\n",
      "Windows 2000 Server Admin And Windows Nt\n",
      "Internet Procurement\n",
      "ResumeId-13\n",
      "codeigniter\n",
      "Problem Solving\n",
      "Project Management\n",
      "Dhtml\n",
      "budget allocation\n",
      "VB\n",
      "Java ME\n",
      "Java\n",
      "hibernate\n",
      "d6dd4a06-0afb-5a15-8fb7-85c2b8c54ea4\n",
      "caa34d99-8aa4-5ade-8ada-7d41a77acf6e\n",
      "Microsoft word\n",
      "C / C++\n",
      "Marketing/Sales\n",
      "PostgreSQL\n",
      "HTML5\n",
      "Television Commissioning\n",
      "Communication\n",
      "database maintenance\n",
      "Sales Support\n",
      "Testing\n",
      "MFC\n",
      "PHP\n",
      "C++ Developer\n",
      "Fico Blaze\n",
      "javascript\n",
      "asp\n",
      "Ajax\n",
      "Training\n",
      "SQL\n",
      "Informatica\n",
      "Network connectivity,FTP,TCP\n",
      "Business Consulting\n",
      "Snpp\n"
     ]
    }
   ],
   "source": [
    "allConnectedNodes=nx.node_connected_component(G, 'BootStrap')\n",
    "for node in allConnectedNodes:\n",
    "    print(node)"
   ]
  },
  {
   "cell_type": "markdown",
   "id": "10a43afa",
   "metadata": {},
   "source": [
    "### Predicting Associations\n",
    "- Clusting Coefficient\n",
    "- nx.clustering(Graph, Node)\n",
    "- nx.average_clustering(g)"
   ]
  },
  {
   "cell_type": "code",
   "execution_count": 26,
   "id": "d93a476e",
   "metadata": {},
   "outputs": [
    {
     "data": {
      "text/plain": [
       "0.0"
      ]
     },
     "execution_count": 26,
     "metadata": {},
     "output_type": "execute_result"
    }
   ],
   "source": [
    "nx.average_clustering(G)\n"
   ]
  },
  {
   "cell_type": "markdown",
   "id": "38e8ecc4",
   "metadata": {},
   "source": [
    "#### Recommend Users to learn skills\n",
    "[Bipertite graph concept applies here]"
   ]
  },
  {
   "cell_type": "code",
   "execution_count": 27,
   "id": "b25b7288",
   "metadata": {},
   "outputs": [
    {
     "name": "stdout",
     "output_type": "stream",
     "text": [
      "Top Skills to be learned\n",
      "C# 0.254\n",
      "SSIS 0.059\n",
      "EntityFrameWork 6 0.036\n",
      "BootStrap 0.015\n",
      "Emergency Handling 0.015\n",
      "SQL Databse Development 0.013\n",
      "JQuery 0.013\n",
      "SSRS 0.013\n",
      "REST Services 0.013\n",
      "MVC5 0.013\n"
     ]
    }
   ],
   "source": [
    "resume1_nbrs=G.neighbors('ResumeId-2')\n",
    "\n",
    "resume3_nbrs=G.neighbors('ResumeId-3')\n",
    "\n",
    "differentSkills= set(resume1_nbrs).difference(resume3_nbrs)\n",
    "skillNodes=[]\n",
    "\n",
    "for skill in differentSkills:\n",
    "    skillNodes.append(G.nodes[skill])\n",
    "    \n",
    "sortedSkillsAccrToEigen = sorted(skillNodes, key=lambda i: i['eigenvector'],reverse=True)\n",
    "\n",
    "print(\"Top Skills to be learned\")\n",
    "for skill in sortedSkillsAccrToEigen:\n",
    "    print(f\"{skill['title']} {round(skill['eigenvector'],3)}\")\n",
    "\n",
    "\n",
    "\n"
   ]
  },
  {
   "cell_type": "code",
   "execution_count": 28,
   "id": "2c7ede11",
   "metadata": {},
   "outputs": [
    {
     "data": {
      "text/plain": [
       "9"
      ]
     },
     "execution_count": 28,
     "metadata": {},
     "output_type": "execute_result"
    }
   ],
   "source": [
    "hh = list(G.neighbors('C#'))\n",
    "len(hh)\n"
   ]
  },
  {
   "cell_type": "markdown",
   "id": "9abbd2b9",
   "metadata": {},
   "source": [
    "#### input: Resume \n",
    "\n",
    "#### output: List of recommended Job Descriptions"
   ]
  },
  {
   "cell_type": "code",
   "execution_count": 29,
   "id": "931e5813",
   "metadata": {},
   "outputs": [
    {
     "name": "stdout",
     "output_type": "stream",
     "text": [
      "Recomended Job Descriptions\n",
      "2b387592-8148-5720-a661-a2730061d14c 1\n",
      "2fea03fb-e855-596f-915c-f2feb28da9fb 1\n",
      "d6dd4a06-0afb-5a15-8fb7-85c2b8c54ea4 1\n",
      "e7fc9e40-ac86-5cf2-ba8f-3c1ef9e21982 1\n",
      "3245816c-1ae2-53db-9e31-ee6dfa591981 1\n",
      "0242a07f-aae1-56cf-a264-53eb2b402d89 1\n",
      "61c088f9-63ea-5a47-b0ab-9310db497b4d 1\n"
     ]
    }
   ],
   "source": [
    "def get_all_adj_job_description_nodes(resume3_nbrs):\n",
    "    related_job_description_nodes_dict = {}\n",
    "\n",
    "    for skill in resume3_nbrs:\n",
    "        skill_nabhour = G.neighbors(skill)\n",
    "        for each_node in skill_nabhour:\n",
    "            if(G.nodes[each_node]['type'] == 'jobDescription'):\n",
    "                if G.nodes[each_node]['title'] in related_job_description_nodes_dict:\n",
    "                    related_job_description_nodes_dict[G.nodes[each_node]\n",
    "                                                       ['title']] += 1\n",
    "                else:\n",
    "                    related_job_description_nodes_dict[G.nodes[each_node]\n",
    "                                                       ['title']] = 1\n",
    "\n",
    "    return related_job_description_nodes_dict\n",
    "\n",
    "\n",
    "resume3_nbrs = G.neighbors('ResumeId-20')\n",
    "# resume3_nbrs = G.neighbors('ResumeId-1')\n",
    "jobDescriptionNodes = get_all_adj_job_description_nodes(resume3_nbrs)\n",
    "\n",
    "sortedJobDescriAccToConNodes = dict(sorted(\n",
    "    jobDescriptionNodes.items(), key=lambda i: i[1], reverse=True))\n",
    "\n",
    "print(\"Recomended Job Descriptions\")\n",
    "x_train_data=[]\n",
    "for job in sortedJobDescriAccToConNodes:\n",
    "    x_train_data.append(job)\n",
    "    print(f\"{job} {sortedJobDescriAccToConNodes[job]}\")\n"
   ]
  },
  {
   "cell_type": "code",
   "execution_count": 31,
   "id": "674f7ece",
   "metadata": {},
   "outputs": [
    {
     "data": {
      "image/png": "[encoded data removed]",
      "text/plain": [
       "<Figure size 432x288 with 1 Axes>"
      ]
     },
     "metadata": {},
     "output_type": "display_data"
    }
   ],
   "source": [
    "pop_skill_g = nx.bfs_tree(\n",
    "    G, \"2b387592-8148-5720-a661-a2730061d14c\", depth_limit=1)\n",
    "\n",
    "nx.draw_networkx(pop_skill_g)\n"
   ]
  },
  {
   "cell_type": "code",
   "execution_count": null,
   "id": "8110ecca",
   "metadata": {},
   "outputs": [],
   "source": []
  }
 ],
 "metadata": {
  "interpreter": {
   "hash": "e6c9ed51d531cd3ecc285116d9118ce51ce262e3344aa663943ec9968e1417d8"
  },
  "kernelspec": {
   "display_name": "Python 3.10.3 64-bit",
   "language": "python",
   "name": "python3"
  },
  "language_info": {
   "codemirror_mode": {
    "name": "ipython",
    "version": 3
   },
   "file_extension": ".py",
   "mimetype": "text/x-python",
   "name": "python",
   "nbconvert_exporter": "python",
   "pygments_lexer": "ipython3",
   "version": "3.10.3"
  }
 },
 "nbformat": 4,
 "nbformat_minor": 5
}
